{
 "cells": [
  {
   "cell_type": "code",
   "execution_count": 0,
   "metadata": {
    "application/vnd.databricks.v1+cell": {
     "cellMetadata": {
      "byteLimit": 2048000,
      "rowLimit": 10000
     },
     "inputWidgets": {},
     "nuid": "99da6510-9735-4ee1-b7f7-05f3c9a9eb4b",
     "showTitle": false,
     "tableResultSettingsMap": {},
     "title": ""
    }
   },
   "outputs": [],
   "source": [
    "from pyspark.sql.functions import current_timestamp\n",
    "# import os\n",
    "\n",
    "# Define paths\n",
    "source_path = \"dbfs:/Volumes/workspace/default/purchase_csv/\"\n",
    "log_table = \"purchase_bronze.load_log\"\n",
    "\n",
    "# Ensure schema exists\n",
    "spark.sql(\"CREATE SCHEMA IF NOT EXISTS purchase_bronze\")\n",
    "\n",
    "# Ensure log table exists\n",
    "spark.sql(f\"\"\"\n",
    "CREATE TABLE IF NOT EXISTS {log_table} (\n",
    "  filename STRING,\n",
    "  tablename STRING,\n",
    "  status STRING,\n",
    "  message STRING,\n",
    "  timestamp TIMESTAMP\n",
    ")\n",
    "USING DELTA\n",
    "\"\"\")\n",
    "\n",
    "# List CSV files\n",
    "files = dbutils.fs.ls(source_path)\n",
    "\n",
    "for f in files:\n",
    "    if not f.name.endswith(\".csv\"):\n",
    "        continue\n",
    "\n",
    "    filename = f.name\n",
    "    filepath = f.path\n",
    "    tablename = filename.replace(\".csv\", \"\")\n",
    "\n",
    "    try:\n",
    "        if f.size == 0:\n",
    "            status, message = \"SKIPPED\", \"File is empty\"\n",
    "        elif spark.catalog.tableExists(f\"purchase_bronze.{tablename}\"):\n",
    "            status, message = \"SKIPPED\", \"Table already exists\"\n",
    "        else:\n",
    "            # Load CSV into bronze table\n",
    "            df = spark.read.option(\"header\", \"true\").option(\"inferSchema\", \"true\").csv(filepath)\n",
    "            df.write.mode(\"overwrite\").saveAsTable(f\"purchase_bronze.{tablename}\")\n",
    "\n",
    "            status, message = \"SUCCESS\", \"Table created successfully\"\n",
    "    except Exception as e:\n",
    "        status, message = \"FAILED\", str(e)\n",
    "\n",
    "    # Log result\n",
    "\n",
    "    from datetime import datetime\n",
    "\n",
    "    log_df = spark.createDataFrame([\n",
    "        (filename, tablename, status, message, datetime.now())\n",
    "    ], [\"filename\", \"tablename\", \"status\", \"message\", \"timestamp\"])\n",
    "\n",
    "    log_df.write.mode(\"append\").insertInto(log_table)\n",
    "\n",
    "\n"
   ]
  },
  {
   "cell_type": "code",
   "execution_count": 0,
   "metadata": {
    "application/vnd.databricks.v1+cell": {
     "cellMetadata": {
      "byteLimit": 2048000,
      "implicitDf": true,
      "rowLimit": 10000
     },
     "collapsed": true,
     "inputWidgets": {},
     "nuid": "c4cc1bd5-7e4d-4c90-8891-02b9d96e517a",
     "showTitle": false,
     "tableResultSettingsMap": {},
     "title": ""
    }
   },
   "outputs": [],
   "source": [
    "%sql\n",
    "select * from purchase_bronze.purchaseorder limit 5;"
   ]
  },
  {
   "cell_type": "code",
   "execution_count": 0,
   "metadata": {
    "application/vnd.databricks.v1+cell": {
     "cellMetadata": {
      "byteLimit": 2048000,
      "implicitDf": true,
      "rowLimit": 10000
     },
     "collapsed": true,
     "inputWidgets": {},
     "nuid": "649ffe26-17e8-4759-98dc-16575a17f839",
     "showTitle": false,
     "tableResultSettingsMap": {},
     "title": ""
    }
   },
   "outputs": [],
   "source": [
    "%sql\n",
    "select * from purchase_bronze.load_log where filename in ('PurchCategory.csv','VendTable.csv');"
   ]
  },
  {
   "cell_type": "code",
   "execution_count": 0,
   "metadata": {
    "application/vnd.databricks.v1+cell": {
     "cellMetadata": {
      "byteLimit": 2048000,
      "implicitDf": true,
      "rowLimit": 10000
     },
     "collapsed": true,
     "inputWidgets": {},
     "nuid": "5cead444-a66e-4351-8e6d-cb9bb0e2c536",
     "showTitle": false,
     "tableResultSettingsMap": {},
     "title": ""
    }
   },
   "outputs": [],
   "source": [
    "%sql\n",
    "select * from purchase_bronze.purchcategory limit 2;"
   ]
  },
  {
   "cell_type": "code",
   "execution_count": 0,
   "metadata": {
    "application/vnd.databricks.v1+cell": {
     "cellMetadata": {
      "byteLimit": 2048000,
      "implicitDf": true,
      "rowLimit": 10000
     },
     "collapsed": true,
     "inputWidgets": {},
     "nuid": "eae078cc-9e5d-44d0-b710-7ef7a21cc64a",
     "showTitle": false,
     "tableResultSettingsMap": {},
     "title": ""
    }
   },
   "outputs": [],
   "source": [
    "%sql\n",
    "select * from purchase_bronze.vendtable limit 2;"
   ]
  }
 ],
 "metadata": {
  "application/vnd.databricks.v1+notebook": {
   "computePreferences": null,
   "dashboards": [],
   "environmentMetadata": {
    "base_environment": "",
    "environment_version": "3"
   },
   "inputWidgetPreferences": null,
   "language": "python",
   "notebookMetadata": {
    "mostRecentlyExecutedCommandWithImplicitDF": {
     "commandId": 8728613456372807,
     "dataframes": [
      "_sqldf"
     ]
    },
    "pythonIndentUnit": 4
   },
   "notebookName": "Purchase_2_Bronze",
   "widgets": {}
  },
  "language_info": {
   "name": "python"
  }
 },
 "nbformat": 4,
 "nbformat_minor": 0
}
